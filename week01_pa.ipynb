{
  "nbformat": 4,
  "nbformat_minor": 0,
  "metadata": {
    "kernelspec": {
      "display_name": "Python 3",
      "language": "python",
      "name": "python3"
    },
    "language_info": {
      "codemirror_mode": {
        "name": "ipython",
        "version": 3
      },
      "file_extension": ".py",
      "mimetype": "text/x-python",
      "name": "python",
      "nbconvert_exporter": "python",
      "pygments_lexer": "ipython3",
      "version": "3.6.5"
    },
    "colab": {
      "name": "week01_pa.ipynb",
      "version": "0.3.2",
      "provenance": [],
      "include_colab_link": true
    }
  },
  "cells": [
    {
      "cell_type": "markdown",
      "metadata": {
        "id": "view-in-github",
        "colab_type": "text"
      },
      "source": [
        "<a href=\"https://colab.research.google.com/github/rajibmondal/Advanced-Machine-Learning-Specialization/blob/master/week01_pa.ipynb\" target=\"_parent\"><img src=\"https://colab.research.google.com/assets/colab-badge.svg\" alt=\"Open In Colab\"/></a>"
      ]
    },
    {
      "cell_type": "markdown",
      "metadata": {
        "id": "uGjjrKoCe3WI",
        "colab_type": "text"
      },
      "source": [
        "# Programming assignment (Linear models, Optimization)\n",
        "\n",
        "In this programming assignment you will implement a linear classifier and train it using stochastic gradient descent modifications and numpy."
      ]
    },
    {
      "cell_type": "code",
      "metadata": {
        "id": "aUGTVQGnfRA6",
        "colab_type": "code",
        "outputId": "3537cde2-de03-4709-8910-317b3fdfc050",
        "colab": {
          "base_uri": "https://localhost:8080/",
          "height": 245
        }
      },
      "source": [
        "! shred -u setup_google_colab.py\n",
        "! wget https://raw.githubusercontent.com/hse-aml/intro-to-dl/master/setup_google_colab.py -O setup_google_colab.py\n",
        "import setup_google_colab\n",
        "\n",
        "setup_google_colab.setup_week1()"
      ],
      "execution_count": 0,
      "outputs": [
        {
          "output_type": "stream",
          "text": [
            "shred: setup_google_colab.py: failed to open for writing: No such file or directory\n",
            "--2019-08-15 22:55:18--  https://raw.githubusercontent.com/hse-aml/intro-to-dl/master/setup_google_colab.py\n",
            "Resolving raw.githubusercontent.com (raw.githubusercontent.com)... 151.101.0.133, 151.101.64.133, 151.101.128.133, ...\n",
            "Connecting to raw.githubusercontent.com (raw.githubusercontent.com)|151.101.0.133|:443... connected.\n",
            "HTTP request sent, awaiting response... 200 OK\n",
            "Length: 3792 (3.7K) [text/plain]\n",
            "Saving to: ‘setup_google_colab.py’\n",
            "\n",
            "setup_google_colab. 100%[===================>]   3.70K  --.-KB/s    in 0s      \n",
            "\n",
            "2019-08-15 22:55:23 (51.3 MB/s) - ‘setup_google_colab.py’ saved [3792/3792]\n",
            "\n"
          ],
          "name": "stdout"
        }
      ]
    },
    {
      "cell_type": "code",
      "metadata": {
        "id": "3kYsFsR8e3WR",
        "colab_type": "code",
        "colab": {}
      },
      "source": [
        "import numpy as np\n",
        "%matplotlib inline\n",
        "import matplotlib.pyplot as plt"
      ],
      "execution_count": 0,
      "outputs": []
    },
    {
      "cell_type": "code",
      "metadata": {
        "id": "FoLi5MwUe3Wl",
        "colab_type": "code",
        "colab": {}
      },
      "source": [
        "import sys\n",
        "sys.path.append(\"..\")\n",
        "import grading\n",
        "grader = grading.Grader(assignment_key=\"UaHtvpEFEee0XQ6wjK-hZg\", \n",
        "                      all_parts=[\"xU7U4\", \"HyTF6\", \"uNidL\", \"ToK7N\", \"GBdgZ\", \"dLdHG\"])"
      ],
      "execution_count": 0,
      "outputs": []
    },
    {
      "cell_type": "code",
      "metadata": {
        "id": "qOof_W9ve3Wx",
        "colab_type": "code",
        "colab": {}
      },
      "source": [
        "# token expires every 30 min\n",
        "COURSERA_TOKEN = ### YOUR TOKEN HERE\n",
        "COURSERA_EMAIL = ### YOUR EMAIL HERE"
      ],
      "execution_count": 0,
      "outputs": []
    },
    {
      "cell_type": "markdown",
      "metadata": {
        "id": "4NYSmnK0e3W5",
        "colab_type": "text"
      },
      "source": [
        "## Two-dimensional classification\n",
        "\n",
        "To make things more intuitive, let's solve a 2D classification problem with synthetic data."
      ]
    },
    {
      "cell_type": "code",
      "metadata": {
        "id": "_8CdCw2pe3W8",
        "colab_type": "code",
        "outputId": "7eae94fb-b653-417b-d6d8-eb4c7afff1c9",
        "colab": {
          "base_uri": "https://localhost:8080/",
          "height": 269
        }
      },
      "source": [
        "with open('train.npy', 'rb') as fin:\n",
        "    X = np.load(fin)\n",
        "    \n",
        "with open('target.npy', 'rb') as fin:\n",
        "    y = np.load(fin)\n",
        "\n",
        "plt.scatter(X[:, 0], X[:, 1], c=y, cmap=plt.cm.Paired, s=20)\n",
        "plt.show()"
      ],
      "execution_count": 0,
      "outputs": [
        {
          "output_type": "display_data",
          "data": {
            "image/png": "[encoded data removed]",
            "text/plain": [
              "<Figure size 432x288 with 1 Axes>"
            ]
          },
          "metadata": {
            "tags": []
          }
        }
      ]
    },
    {
      "cell_type": "markdown",
      "metadata": {
        "id": "VgGOKntWe3XH",
        "colab_type": "text"
      },
      "source": [
        "# Task\n",
        "\n",
        "## Features\n",
        "\n",
        "As you can notice the data above isn't linearly separable. Since that we should add features (or use non-linear model). Note that decision line between two classes have form of circle, since that we can add quadratic features to make the problem linearly separable. The idea under this displayed on image below:\n",
        "\n",
        "![](https://github.com/hse-aml/intro-to-dl/blob/master/week1/kernel.png?raw=1)"
      ]
    },
    {
      "cell_type": "code",
      "metadata": {
        "id": "QuVUT1XQe3XK",
        "colab_type": "code",
        "colab": {}
      },
      "source": [
        "def expand(X):\n",
        "    \"\"\"\n",
        "    Adds quadratic features. \n",
        "    This expansion allows your linear model to make non-linear separation.\n",
        "    \n",
        "    For each sample (row in matrix), compute an expanded row:\n",
        "    [feature0, feature1, feature0^2, feature1^2, feature0*feature1, 1]\n",
        "    \n",
        "    :param X: matrix of features, shape [n_samples,2]\n",
        "    :returns: expanded features of shape [n_samples,6]\n",
        "    \"\"\"\n",
        "    X_expanded = np.zeros((X.shape[0], 6))\n",
        "    \n",
        "    # TODO:<your code here>"
      ],
      "execution_count": 0,
      "outputs": []
    },
    {
      "cell_type": "code",
      "metadata": {
        "id": "Se2RYuBle3XT",
        "colab_type": "code",
        "colab": {}
      },
      "source": [
        "X_expanded = expand(X)"
      ],
      "execution_count": 0,
      "outputs": []
    },
    {
      "cell_type": "markdown",
      "metadata": {
        "id": "y426tITPe3Xm",
        "colab_type": "text"
      },
      "source": [
        "Here are some tests for your implementation of `expand` function."
      ]
    },
    {
      "cell_type": "code",
      "metadata": {
        "id": "eIhRAxane3Xq",
        "colab_type": "code",
        "colab": {}
      },
      "source": [
        "# simple test on random numbers\n",
        "\n",
        "dummy_X = np.array([\n",
        "        [0,0],\n",
        "        [1,0],\n",
        "        [2.61,-1.28],\n",
        "        [-0.59,2.1]\n",
        "    ])\n",
        "\n",
        "# call your expand function\n",
        "dummy_expanded = expand(dummy_X)\n",
        "\n",
        "# what it should have returned:   x0       x1       x0^2     x1^2     x0*x1    1\n",
        "dummy_expanded_ans = np.array([[ 0.    ,  0.    ,  0.    ,  0.    ,  0.    ,  1.    ],\n",
        "                               [ 1.    ,  0.    ,  1.    ,  0.    ,  0.    ,  1.    ],\n",
        "                               [ 2.61  , -1.28  ,  6.8121,  1.6384, -3.3408,  1.    ],\n",
        "                               [-0.59  ,  2.1   ,  0.3481,  4.41  , -1.239 ,  1.    ]])\n",
        "\n",
        "#tests\n",
        "assert isinstance(dummy_expanded,np.ndarray), \"please make sure you return numpy array\"\n",
        "assert dummy_expanded.shape == dummy_expanded_ans.shape, \"please make sure your shape is correct\"\n",
        "assert np.allclose(dummy_expanded,dummy_expanded_ans,1e-3), \"Something's out of order with features\"\n",
        "\n",
        "print(\"Seems legit!\")\n"
      ],
      "execution_count": 0,
      "outputs": []
    },
    {
      "cell_type": "markdown",
      "metadata": {
        "id": "Y0kk4jSte3X0",
        "colab_type": "text"
      },
      "source": [
        "## Logistic regression\n",
        "\n",
        "To classify objects we will obtain probability of object belongs to class '1'. To predict probability we will use output of linear model and logistic function:\n",
        "\n",
        "$$ a(x; w) = \\langle w, x \\rangle $$\n",
        "$$ P( y=1 \\; \\big| \\; x, \\, w) = \\dfrac{1}{1 + \\exp(- \\langle w, x \\rangle)} = \\sigma(\\langle w, x \\rangle)$$\n"
      ]
    },
    {
      "cell_type": "code",
      "metadata": {
        "id": "MCFYRJfGe3X3",
        "colab_type": "code",
        "colab": {}
      },
      "source": [
        "def probability(X, w):\n",
        "    \"\"\"\n",
        "    Given input features and weights\n",
        "    return predicted probabilities of y==1 given x, P(y=1|x), see description above\n",
        "        \n",
        "    Don't forget to use expand(X) function (where necessary) in this and subsequent functions.\n",
        "    \n",
        "    :param X: feature matrix X of shape [n_samples,6] (expanded)\n",
        "    :param w: weight vector w of shape [6] for each of the expanded features\n",
        "    :returns: an array of predicted probabilities in [0,1] interval.\n",
        "    \"\"\"\n",
        "\n",
        "    # TODO:<your code here>"
      ],
      "execution_count": 0,
      "outputs": []
    },
    {
      "cell_type": "code",
      "metadata": {
        "id": "PZyncCGqe3X_",
        "colab_type": "code",
        "colab": {}
      },
      "source": [
        "dummy_weights = np.linspace(-1, 1, 6)\n",
        "ans_part1 = probability(X_expanded[:1, :], dummy_weights)[0]"
      ],
      "execution_count": 0,
      "outputs": []
    },
    {
      "cell_type": "code",
      "metadata": {
        "id": "KvljB7oGe3YI",
        "colab_type": "code",
        "colab": {}
      },
      "source": [
        "## GRADED PART, DO NOT CHANGE!\n",
        "grader.set_answer(\"xU7U4\", ans_part1)"
      ],
      "execution_count": 0,
      "outputs": []
    },
    {
      "cell_type": "code",
      "metadata": {
        "id": "ax7CLdpAe3YP",
        "colab_type": "code",
        "colab": {}
      },
      "source": [
        "# you can make submission with answers so far to check yourself at this stage\n",
        "grader.submit(COURSERA_EMAIL, COURSERA_TOKEN)"
      ],
      "execution_count": 0,
      "outputs": []
    },
    {
      "cell_type": "markdown",
      "metadata": {
        "id": "O3ErmRgAe3YX",
        "colab_type": "text"
      },
      "source": [
        "In logistic regression the optimal parameters $w$ are found by cross-entropy minimization:\n",
        "\n",
        "Loss for one sample: $$ l(x_i, y_i, w) = - \\left[ {y_i \\cdot log P(y_i = 1 \\, | \\, x_i,w) + (1-y_i) \\cdot log (1-P(y_i = 1\\, | \\, x_i,w))}\\right] $$\n",
        "\n",
        "Loss for many samples: $$ L(X, \\vec{y}, w) =  {1 \\over \\ell} \\sum_{i=1}^\\ell l(x_i, y_i, w) $$\n",
        "\n"
      ]
    },
    {
      "cell_type": "code",
      "metadata": {
        "id": "dOTg680pe3YZ",
        "colab_type": "code",
        "colab": {}
      },
      "source": [
        "def compute_loss(X, y, w):\n",
        "    \"\"\"\n",
        "    Given feature matrix X [n_samples,6], target vector [n_samples] of 1/0,\n",
        "    and weight vector w [6], compute scalar loss function L using formula above.\n",
        "    Keep in mind that our loss is averaged over all samples (rows) in X.\n",
        "    \"\"\"\n",
        "    # TODO:<your code here>"
      ],
      "execution_count": 0,
      "outputs": []
    },
    {
      "cell_type": "code",
      "metadata": {
        "id": "mptK0R5Ue3Yg",
        "colab_type": "code",
        "colab": {}
      },
      "source": [
        "# use output of this cell to fill answer field \n",
        "ans_part2 = compute_loss(X_expanded, y, dummy_weights)"
      ],
      "execution_count": 0,
      "outputs": []
    },
    {
      "cell_type": "code",
      "metadata": {
        "id": "tI0OtRDve3Yn",
        "colab_type": "code",
        "colab": {}
      },
      "source": [
        "## GRADED PART, DO NOT CHANGE!\n",
        "grader.set_answer(\"HyTF6\", ans_part2)"
      ],
      "execution_count": 0,
      "outputs": []
    },
    {
      "cell_type": "code",
      "metadata": {
        "id": "8_78pbBSe3Yv",
        "colab_type": "code",
        "colab": {}
      },
      "source": [
        "# you can make submission with answers so far to check yourself at this stage\n",
        "grader.submit(COURSERA_EMAIL, COURSERA_TOKEN)"
      ],
      "execution_count": 0,
      "outputs": []
    },
    {
      "cell_type": "markdown",
      "metadata": {
        "id": "9w_Q-FtUe3Y1",
        "colab_type": "text"
      },
      "source": [
        "Since we train our model with gradient descent, we should compute gradients.\n",
        "\n",
        "To be specific, we need a derivative of loss function over each weight [6 of them].\n",
        "\n",
        "$$ \\nabla_w L = {1 \\over \\ell} \\sum_{i=1}^\\ell \\nabla_w l(x_i, y_i, w) $$ \n",
        "\n",
        "We won't be giving you the exact formula this time — instead, try figuring out a derivative with pen and paper. \n",
        "\n",
        "As usual, we've made a small test for you, but if you need more, feel free to check your math against finite differences (estimate how $L$ changes if you shift $w$ by $10^{-5}$ or so)."
      ]
    },
    {
      "cell_type": "code",
      "metadata": {
        "id": "k60PajxXe3Y3",
        "colab_type": "code",
        "colab": {}
      },
      "source": [
        "def compute_grad(X, y, w):\n",
        "    \"\"\"\n",
        "    Given feature matrix X [n_samples,6], target vector [n_samples] of 1/0,\n",
        "    and weight vector w [6], compute vector [6] of derivatives of L over each weights.\n",
        "    Keep in mind that our loss is averaged over all samples (rows) in X.\n",
        "    \"\"\"\n",
        "    \n",
        "    # TODO<your code here>"
      ],
      "execution_count": 0,
      "outputs": []
    },
    {
      "cell_type": "code",
      "metadata": {
        "id": "wbCGDMa7e3Y-",
        "colab_type": "code",
        "colab": {}
      },
      "source": [
        "# use output of this cell to fill answer field \n",
        "ans_part3 = np.linalg.norm(compute_grad(X_expanded, y, dummy_weights))"
      ],
      "execution_count": 0,
      "outputs": []
    },
    {
      "cell_type": "code",
      "metadata": {
        "id": "PFYRvXJge3ZD",
        "colab_type": "code",
        "colab": {}
      },
      "source": [
        "## GRADED PART, DO NOT CHANGE!\n",
        "grader.set_answer(\"uNidL\", ans_part3)"
      ],
      "execution_count": 0,
      "outputs": []
    },
    {
      "cell_type": "code",
      "metadata": {
        "id": "XBjCI1Ioe3ZL",
        "colab_type": "code",
        "colab": {}
      },
      "source": [
        "# you can make submission with answers so far to check yourself at this stage\n",
        "grader.submit(COURSERA_EMAIL, COURSERA_TOKEN)"
      ],
      "execution_count": 0,
      "outputs": []
    },
    {
      "cell_type": "markdown",
      "metadata": {
        "id": "VmAZqgJGe3ZR",
        "colab_type": "text"
      },
      "source": [
        "Here's an auxiliary function that visualizes the predictions:"
      ]
    },
    {
      "cell_type": "code",
      "metadata": {
        "id": "8bl46W-Qe3ZR",
        "colab_type": "code",
        "colab": {}
      },
      "source": [
        "from IPython import display\n",
        "\n",
        "h = 0.01\n",
        "x_min, x_max = X[:, 0].min() - 1, X[:, 0].max() + 1\n",
        "y_min, y_max = X[:, 1].min() - 1, X[:, 1].max() + 1\n",
        "xx, yy = np.meshgrid(np.arange(x_min, x_max, h), np.arange(y_min, y_max, h))\n",
        "\n",
        "def visualize(X, y, w, history):\n",
        "    \"\"\"draws classifier prediction with matplotlib magic\"\"\"\n",
        "    Z = probability(expand(np.c_[xx.ravel(), yy.ravel()]), w)\n",
        "    Z = Z.reshape(xx.shape)\n",
        "    plt.subplot(1, 2, 1)\n",
        "    plt.contourf(xx, yy, Z, alpha=0.8)\n",
        "    plt.scatter(X[:, 0], X[:, 1], c=y, cmap=plt.cm.Paired)\n",
        "    plt.xlim(xx.min(), xx.max())\n",
        "    plt.ylim(yy.min(), yy.max())\n",
        "    \n",
        "    plt.subplot(1, 2, 2)\n",
        "    plt.plot(history)\n",
        "    plt.grid()\n",
        "    ymin, ymax = plt.ylim()\n",
        "    plt.ylim(0, ymax)\n",
        "    display.clear_output(wait=True)\n",
        "    plt.show()"
      ],
      "execution_count": 0,
      "outputs": []
    },
    {
      "cell_type": "code",
      "metadata": {
        "id": "lJy2RoHee3ZZ",
        "colab_type": "code",
        "colab": {}
      },
      "source": [
        "visualize(X, y, dummy_weights, [0.5, 0.5, 0.25])"
      ],
      "execution_count": 0,
      "outputs": []
    },
    {
      "cell_type": "markdown",
      "metadata": {
        "id": "Z4sFLncHe3Zf",
        "colab_type": "text"
      },
      "source": [
        "## Training\n",
        "In this section we'll use the functions you wrote to train our classifier using stochastic gradient descent.\n",
        "\n",
        "You can try change hyperparameters like batch size, learning rate and so on to find the best one, but use our hyperparameters when fill answers."
      ]
    },
    {
      "cell_type": "markdown",
      "metadata": {
        "id": "h1IPlXXVe3Zg",
        "colab_type": "text"
      },
      "source": [
        "## Mini-batch SGD\n",
        "\n",
        "Stochastic gradient descent just takes a random batch of $m$ samples on each iteration, calculates a gradient of the loss on it and makes a step:\n",
        "$$ w_t = w_{t-1} - \\eta \\dfrac{1}{m} \\sum_{j=1}^m \\nabla_w l(x_{i_j}, y_{i_j}, w_t) $$\n",
        "\n"
      ]
    },
    {
      "cell_type": "code",
      "metadata": {
        "collapsed": true,
        "id": "dxEDpunLe3Zi",
        "colab_type": "code",
        "colab": {}
      },
      "source": [
        "# please use np.random.seed(42), eta=0.1, n_iter=100 and batch_size=4 for deterministic results\n",
        "\n",
        "np.random.seed(42)\n",
        "w = np.array([0, 0, 0, 0, 0, 1])\n",
        "\n",
        "eta= 0.1 # learning rate\n",
        "\n",
        "n_iter = 100\n",
        "batch_size = 4\n",
        "loss = np.zeros(n_iter)\n",
        "plt.figure(figsize=(12, 5))\n",
        "\n",
        "for i in range(n_iter):\n",
        "    ind = np.random.choice(X_expanded.shape[0], batch_size)\n",
        "    loss[i] = compute_loss(X_expanded, y, w)\n",
        "    if i % 10 == 0:\n",
        "        visualize(X_expanded[ind, :], y[ind], w, loss)\n",
        "\n",
        "    # Keep in mind that compute_grad already does averaging over batch for you!\n",
        "    # TODO:<your code here>\n",
        "\n",
        "visualize(X, y, w, loss)\n",
        "plt.clf()"
      ],
      "execution_count": 0,
      "outputs": []
    },
    {
      "cell_type": "code",
      "metadata": {
        "collapsed": true,
        "id": "FKMomhB8e3Zs",
        "colab_type": "code",
        "colab": {}
      },
      "source": [
        "# use output of this cell to fill answer field \n",
        "\n",
        "ans_part4 = compute_loss(X_expanded, y, w)"
      ],
      "execution_count": 0,
      "outputs": []
    },
    {
      "cell_type": "code",
      "metadata": {
        "collapsed": true,
        "id": "Epa0thFve3Zx",
        "colab_type": "code",
        "colab": {}
      },
      "source": [
        "## GRADED PART, DO NOT CHANGE!\n",
        "grader.set_answer(\"ToK7N\", ans_part4)"
      ],
      "execution_count": 0,
      "outputs": []
    },
    {
      "cell_type": "code",
      "metadata": {
        "collapsed": true,
        "id": "MKEs8gpde3Z5",
        "colab_type": "code",
        "colab": {}
      },
      "source": [
        "# you can make submission with answers so far to check yourself at this stage\n",
        "grader.submit(COURSERA_EMAIL, COURSERA_TOKEN)"
      ],
      "execution_count": 0,
      "outputs": []
    },
    {
      "cell_type": "markdown",
      "metadata": {
        "id": "JDcHO0e4e3Z9",
        "colab_type": "text"
      },
      "source": [
        "## SGD with momentum\n",
        "\n",
        "Momentum is a method that helps accelerate SGD in the relevant direction and dampens oscillations as can be seen in image below. It does this by adding a fraction $\\alpha$ of the update vector of the past time step to the current update vector.\n",
        "<br>\n",
        "<br>\n",
        "\n",
        "$$ \\nu_t = \\alpha \\nu_{t-1} + \\eta\\dfrac{1}{m} \\sum_{j=1}^m \\nabla_w l(x_{i_j}, y_{i_j}, w_t) $$\n",
        "$$ w_t = w_{t-1} - \\nu_t$$\n",
        "\n",
        "<br>\n",
        "\n",
        "\n",
        "![](https://github.com/hse-aml/intro-to-dl/blob/master/week1/sgd.png?raw=1)\n"
      ]
    },
    {
      "cell_type": "code",
      "metadata": {
        "collapsed": true,
        "id": "zu9F0YZDe3Z-",
        "colab_type": "code",
        "colab": {}
      },
      "source": [
        "# please use np.random.seed(42), eta=0.05, alpha=0.9, n_iter=100 and batch_size=4 for deterministic results\n",
        "np.random.seed(42)\n",
        "w = np.array([0, 0, 0, 0, 0, 1])\n",
        "\n",
        "eta = 0.05 # learning rate\n",
        "alpha = 0.9 # momentum\n",
        "nu = np.zeros_like(w)\n",
        "\n",
        "n_iter = 100\n",
        "batch_size = 4\n",
        "loss = np.zeros(n_iter)\n",
        "plt.figure(figsize=(12, 5))\n",
        "\n",
        "for i in range(n_iter):\n",
        "    ind = np.random.choice(X_expanded.shape[0], batch_size)\n",
        "    loss[i] = compute_loss(X_expanded, y, w)\n",
        "    if i % 10 == 0:\n",
        "        visualize(X_expanded[ind, :], y[ind], w, loss)\n",
        "\n",
        "    # TODO:<your code here>\n",
        "\n",
        "visualize(X, y, w, loss)\n",
        "plt.clf()"
      ],
      "execution_count": 0,
      "outputs": []
    },
    {
      "cell_type": "code",
      "metadata": {
        "collapsed": true,
        "id": "b81MoWw2e3aD",
        "colab_type": "code",
        "colab": {}
      },
      "source": [
        "# use output of this cell to fill answer field \n",
        "\n",
        "ans_part5 = compute_loss(X_expanded, y, w)"
      ],
      "execution_count": 0,
      "outputs": []
    },
    {
      "cell_type": "code",
      "metadata": {
        "collapsed": true,
        "id": "Y5Vhva1de3aH",
        "colab_type": "code",
        "colab": {}
      },
      "source": [
        "## GRADED PART, DO NOT CHANGE!\n",
        "grader.set_answer(\"GBdgZ\", ans_part5)"
      ],
      "execution_count": 0,
      "outputs": []
    },
    {
      "cell_type": "code",
      "metadata": {
        "collapsed": true,
        "id": "X9kFzGpRe3aL",
        "colab_type": "code",
        "colab": {}
      },
      "source": [
        "# you can make submission with answers so far to check yourself at this stage\n",
        "grader.submit(COURSERA_EMAIL, COURSERA_TOKEN)"
      ],
      "execution_count": 0,
      "outputs": []
    },
    {
      "cell_type": "markdown",
      "metadata": {
        "id": "gPn70nSVe3aQ",
        "colab_type": "text"
      },
      "source": [
        "## RMSprop\n",
        "\n",
        "Implement RMSPROP algorithm, which use squared gradients to adjust learning rate:\n",
        "\n",
        "$$ G_j^t = \\alpha G_j^{t-1} + (1 - \\alpha) g_{tj}^2 $$\n",
        "$$ w_j^t = w_j^{t-1} - \\dfrac{\\eta}{\\sqrt{G_j^t + \\varepsilon}} g_{tj} $$"
      ]
    },
    {
      "cell_type": "code",
      "metadata": {
        "collapsed": true,
        "id": "I7TdJPbBe3aR",
        "colab_type": "code",
        "colab": {}
      },
      "source": [
        "# please use np.random.seed(42), eta=0.1, alpha=0.9, n_iter=100 and batch_size=4 for deterministic results\n",
        "np.random.seed(42)\n",
        "\n",
        "w = np.array([0, 0, 0, 0, 0, 1.])\n",
        "\n",
        "eta = 0.1 # learning rate\n",
        "alpha = 0.9 # moving average of gradient norm squared\n",
        "g2 = None # we start with None so that you can update this value correctly on the first iteration\n",
        "eps = 1e-8\n",
        "\n",
        "n_iter = 100\n",
        "batch_size = 4\n",
        "loss = np.zeros(n_iter)\n",
        "plt.figure(figsize=(12,5))\n",
        "for i in range(n_iter):\n",
        "    ind = np.random.choice(X_expanded.shape[0], batch_size)\n",
        "    loss[i] = compute_loss(X_expanded, y, w)\n",
        "    if i % 10 == 0:\n",
        "        visualize(X_expanded[ind, :], y[ind], w, loss)\n",
        "\n",
        "    # TODO:<your code here>\n",
        "\n",
        "visualize(X, y, w, loss)\n",
        "plt.clf()"
      ],
      "execution_count": 0,
      "outputs": []
    },
    {
      "cell_type": "code",
      "metadata": {
        "collapsed": true,
        "id": "UBpWf-sze3aU",
        "colab_type": "code",
        "colab": {}
      },
      "source": [
        "# use output of this cell to fill answer field \n",
        "ans_part6 = compute_loss(X_expanded, y, w)"
      ],
      "execution_count": 0,
      "outputs": []
    },
    {
      "cell_type": "code",
      "metadata": {
        "collapsed": true,
        "id": "OqNSveeie3ab",
        "colab_type": "code",
        "colab": {}
      },
      "source": [
        "## GRADED PART, DO NOT CHANGE!\n",
        "grader.set_answer(\"dLdHG\", ans_part6)"
      ],
      "execution_count": 0,
      "outputs": []
    },
    {
      "cell_type": "code",
      "metadata": {
        "collapsed": true,
        "id": "-f7PHvple3af",
        "colab_type": "code",
        "colab": {}
      },
      "source": [
        "grader.submit(COURSERA_EMAIL, COURSERA_TOKEN)"
      ],
      "execution_count": 0,
      "outputs": []
    }
  ]
}