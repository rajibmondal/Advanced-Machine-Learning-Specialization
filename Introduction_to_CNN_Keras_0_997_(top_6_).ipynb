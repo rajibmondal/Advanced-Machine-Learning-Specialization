{
  "nbformat": 4,
  "nbformat_minor": 0,
  "metadata": {
    "colab": {
      "name": "Introduction to CNN Keras - 0.997 (top 6%).ipynb",
      "version": "0.3.2",
      "provenance": [],
      "include_colab_link": true
    },
    "kernelspec": {
      "name": "python3",
      "display_name": "Python 3"
    },
    "accelerator": "GPU"
  },
  "cells": [
    {
      "cell_type": "markdown",
      "metadata": {
        "id": "view-in-github",
        "colab_type": "text"
      },
      "source": [
        "<a href=\"https://colab.research.google.com/github/rajibmondal/Advanced-Machine-Learning-Specialization/blob/master/Introduction_to_CNN_Keras_0_997_(top_6_).ipynb\" target=\"_parent\"><img src=\"https://colab.research.google.com/assets/colab-badge.svg\" alt=\"Open In Colab\"/></a>"
      ]
    },
    {
      "cell_type": "code",
      "metadata": {
        "id": "ta6w5KsACIqD",
        "colab_type": "code",
        "colab": {}
      },
      "source": [
        "!pip install -U -q PyDrive\n",
        "from pydrive.auth import GoogleAuth\n",
        "from pydrive.drive import GoogleDrive\n",
        "from google.colab import auth\n",
        "from oauth2client.client import GoogleCredentials\n",
        "\n"
      ],
      "execution_count": 0,
      "outputs": []
    },
    {
      "cell_type": "code",
      "metadata": {
        "id": "CduB7SumD4yK",
        "colab_type": "code",
        "colab": {}
      },
      "source": [
        "import pandas as pd\n",
        "import numpy as np\n",
        "import matplotlib.pyplot as plt"
      ],
      "execution_count": 0,
      "outputs": []
    },
    {
      "cell_type": "code",
      "metadata": {
        "id": "xHzfAtaYD43S",
        "colab_type": "code",
        "colab": {}
      },
      "source": [
        "#authenticate\n",
        "\n",
        "auth.authenticate_user()\n",
        "gauth = GoogleAuth()\n",
        "gauth.credentials = GoogleCredentials.get_application_default()\n",
        "drive = GoogleDrive(gauth)"
      ],
      "execution_count": 0,
      "outputs": []
    },
    {
      "cell_type": "code",
      "metadata": {
        "id": "CWWqwMLdHZnn",
        "colab_type": "code",
        "colab": {}
      },
      "source": [
        "train - 1fEDm7Y8l0rdy9Yb7hwWsksCUHT2Z0KY1\n",
        "test - 1sJozMxPsc7hsGWgWR47wGaBbFhDvaXjx"
      ],
      "execution_count": 0,
      "outputs": []
    },
    {
      "cell_type": "code",
      "metadata": {
        "id": "s4GxiulPSFBR",
        "colab_type": "code",
        "colab": {}
      },
      "source": [
        "import pandas as pd\n",
        "import numpy as np\n",
        "import matplotlib.pyplot as plt\n",
        "import matplotlib.image as mpimg\n",
        "import seaborn as sns\n",
        "%matplotlib inline\n",
        "\n",
        "np.random.seed(2)\n",
        "\n",
        "from sklearn.model_selection import train_test_split\n",
        "from sklearn.metrics import confusion_matrix\n",
        "import itertools\n",
        "\n",
        "from keras.utils.np_utils import to_categorical # convert to one-hot-encoding\n",
        "from keras.models import Sequential\n",
        "from keras.layers import Dense, Dropout, Flatten, Conv2D, MaxPool2D\n",
        "from keras.optimizers import RMSprop\n",
        "from keras.preprocessing.image import ImageDataGenerator\n",
        "from keras.callbacks import ReduceLROnPlateau\n",
        "\n",
        "\n",
        "sns.set(style='white', context='notebook', palette='deep')"
      ],
      "execution_count": 0,
      "outputs": []
    },
    {
      "cell_type": "code",
      "metadata": {
        "id": "Fsdy4xZyHZuS",
        "colab_type": "code",
        "colab": {}
      },
      "source": [
        "train_downloaded = drive.CreateFile({'id': '1fEDm7Y8l0rdy9Yb7hwWsksCUHT2Z0KY1'})\n",
        "train_downloaded.GetContentFile('train.csv')\n",
        "test_downloaded = drive.CreateFile({'id': '1sJozMxPsc7hsGWgWR47wGaBbFhDvaXjx'})\n",
        "test_downloaded.GetContentFile('test.csv') \n",
        "\n",
        "\n",
        "import pandas as pd\n",
        "import numpy as np\n",
        "\n",
        "train = pd.read_csv('train.csv')\n",
        "test = pd.read_csv('test.csv')\n",
        "\n",
        "\n"
      ],
      "execution_count": 0,
      "outputs": []
    },
    {
      "cell_type": "code",
      "metadata": {
        "id": "Sx1ACbxnScxW",
        "colab_type": "code",
        "colab": {}
      },
      "source": [
        "Y_train = train[\"label\"]"
      ],
      "execution_count": 0,
      "outputs": []
    },
    {
      "cell_type": "code",
      "metadata": {
        "id": "48F4HPI_HaGo",
        "colab_type": "code",
        "outputId": "64c75030-0b3e-4fcc-96e8-2c0870123672",
        "colab": {
          "base_uri": "https://localhost:8080/",
          "height": 482
        }
      },
      "source": [
        "Y_train = train[\"label\"]\n",
        "\n",
        "#Drop \"label\" column\n",
        "X_train = train.drop(labels = [\"label\"], axis = 1)\n",
        "\n",
        "#free some space\n",
        "\n",
        "del train\n",
        "\n",
        "g = sns.countplot(Y_train)\n",
        "\n",
        "Y_train.value_counts()"
      ],
      "execution_count": 0,
      "outputs": [
        {
          "output_type": "execute_result",
          "data": {
            "text/plain": [
              "1    4684\n",
              "7    4401\n",
              "3    4351\n",
              "9    4188\n",
              "2    4177\n",
              "6    4137\n",
              "0    4132\n",
              "4    4072\n",
              "8    4063\n",
              "5    3795\n",
              "Name: label, dtype: int64"
            ]
          },
          "metadata": {
            "tags": []
          },
          "execution_count": 34
        },
        {
          "output_type": "display_data",
          "data": {
            "image/png": "[encoded data removed]",
            "text/plain": [
              "<Figure size 432x288 with 1 Axes>"
            ]
          },
          "metadata": {
            "tags": []
          }
        }
      ]
    },
    {
      "cell_type": "markdown",
      "metadata": {
        "id": "IY8CfW_5TGkV",
        "colab_type": "text"
      },
      "source": [
        "##2.2 Check for null and missing values"
      ]
    },
    {
      "cell_type": "code",
      "metadata": {
        "id": "ps11yTFIHaEC",
        "colab_type": "code",
        "outputId": "30e13617-2ec3-4194-d868-03fe59542057",
        "colab": {
          "base_uri": "https://localhost:8080/",
          "height": 104
        }
      },
      "source": [
        "#cheque the data\n",
        "X_train.isnull().any().describe()\n"
      ],
      "execution_count": 0,
      "outputs": [
        {
          "output_type": "execute_result",
          "data": {
            "text/plain": [
              "count       784\n",
              "unique        1\n",
              "top       False\n",
              "freq        784\n",
              "dtype: object"
            ]
          },
          "metadata": {
            "tags": []
          },
          "execution_count": 36
        }
      ]
    },
    {
      "cell_type": "code",
      "metadata": {
        "id": "eohEbXp3HaBa",
        "colab_type": "code",
        "outputId": "c161a9d3-b9bf-4fc3-dc11-4f5b6dd5e878",
        "colab": {
          "base_uri": "https://localhost:8080/",
          "height": 104
        }
      },
      "source": [
        "test.isnull().any().describe()"
      ],
      "execution_count": 0,
      "outputs": [
        {
          "output_type": "execute_result",
          "data": {
            "text/plain": [
              "count       784\n",
              "unique        1\n",
              "top       False\n",
              "freq        784\n",
              "dtype: object"
            ]
          },
          "metadata": {
            "tags": []
          },
          "execution_count": 37
        }
      ]
    },
    {
      "cell_type": "markdown",
      "metadata": {
        "id": "kHY_E0APTv7g",
        "colab_type": "text"
      },
      "source": [
        "\n",
        "\n",
        "I check for corrupted images (missing values inside).\n",
        "\n",
        "There is no missing values in the train and test dataset. So we can safely go ahead.\n"
      ]
    },
    {
      "cell_type": "markdown",
      "metadata": {
        "id": "Z2Ve-DQJT1gV",
        "colab_type": "text"
      },
      "source": [
        "\n",
        "##2.3 Normalization\n",
        "\n",
        "We perform a grayscale normalization to reduce the effect of illumination's differences.\n",
        "\n",
        "Moreover the CNN converg faster on [0..1] data than on [0..255].\n"
      ]
    },
    {
      "cell_type": "code",
      "metadata": {
        "id": "Uzirmz8PHZ61",
        "colab_type": "code",
        "colab": {}
      },
      "source": [
        "#normalize data\n",
        "X_train = X_train/255.0\n",
        "test = test/255.0"
      ],
      "execution_count": 0,
      "outputs": []
    },
    {
      "cell_type": "code",
      "metadata": {
        "id": "-VXnyGx5HZ4S",
        "colab_type": "code",
        "colab": {}
      },
      "source": [
        "# Reshape image in 3 dimensions (height = 28px, width = 28px , canal = 1)\n",
        "X_train = X_train.values.reshape(-1,28,28,1)\n",
        "test = test.values.reshape(-1,28,28,1)"
      ],
      "execution_count": 0,
      "outputs": []
    },
    {
      "cell_type": "markdown",
      "metadata": {
        "id": "ww0CQNSqVGF8",
        "colab_type": "text"
      },
      "source": [
        "\n",
        "\n",
        "Train and test images (28px x 28px) has been stock into pandas.Dataframe as 1D vectors of 784 values. We reshape all data to 28x28x1 3D matrices.\n",
        "\n",
        "Keras requires an extra dimension in the end which correspond to channels. MNIST images are gray scaled so it use only one channel. For RGB images, there is 3 channels, we would have reshaped 784px vectors to 28x28x3 3D matrices.\n"
      ]
    },
    {
      "cell_type": "code",
      "metadata": {
        "id": "fPOpp6RHUw3M",
        "colab_type": "code",
        "colab": {}
      },
      "source": [
        "# Encode labels to one hot vectors (ex : 2 -> [0,0,1,0,0,0,0,0,0,0])\n",
        "Y_train = to_categorical(Y_train, num_classes = 10)"
      ],
      "execution_count": 0,
      "outputs": []
    },
    {
      "cell_type": "code",
      "metadata": {
        "id": "koHsuELYUxCs",
        "colab_type": "code",
        "colab": {}
      },
      "source": [
        "# Set the random seed\n",
        "random_seed = 2"
      ],
      "execution_count": 0,
      "outputs": []
    },
    {
      "cell_type": "code",
      "metadata": {
        "id": "ZTQfIVMIUxGE",
        "colab_type": "code",
        "colab": {}
      },
      "source": [
        "# Split the train and the validation set for the fitting\n",
        "X_train, X_val, Y_train, Y_val = train_test_split(X_train, Y_train, test_size = 0.1, random_state=random_seed)"
      ],
      "execution_count": 0,
      "outputs": []
    },
    {
      "cell_type": "code",
      "metadata": {
        "id": "6luFo6eJUxJa",
        "colab_type": "code",
        "outputId": "5d05b3d5-fa69-413a-bff3-abfba6c9c1ac",
        "colab": {
          "base_uri": "https://localhost:8080/",
          "height": 274
        }
      },
      "source": [
        "# Some examples\n",
        "g = plt.imshow(X_train[0][:,:,0])"
      ],
      "execution_count": 0,
      "outputs": [
        {
          "output_type": "display_data",
          "data": {
            "image/png": "[encoded data removed]",
            "text/plain": [
              "<Figure size 432x288 with 1 Axes>"
            ]
          },
          "metadata": {
            "tags": []
          }
        }
      ]
    },
    {
      "cell_type": "code",
      "metadata": {
        "id": "NRpbeHSXUxVO",
        "colab_type": "code",
        "colab": {}
      },
      "source": [
        ""
      ],
      "execution_count": 0,
      "outputs": []
    },
    {
      "cell_type": "code",
      "metadata": {
        "id": "D_XLaAdgUxSk",
        "colab_type": "code",
        "outputId": "07ded42a-6b1a-44ef-8d99-d4a63284e4c5",
        "colab": {
          "base_uri": "https://localhost:8080/",
          "height": 280
        }
      },
      "source": [
        "# Set the CNN model \n",
        "# my CNN architechture is In -> [[Conv2D->relu]*2 -> MaxPool2D -> Dropout]*2 -> Flatten -> Dense -> Dropout -> Out\n",
        "\n",
        "model = Sequential()\n",
        "\n",
        "model.add(Conv2D(filters = 32, kernel_size = (5,5),padding = 'Same', \n",
        "                 activation ='relu', input_shape = (28,28,1)))\n",
        "model.add(Conv2D(filters = 32, kernel_size = (5,5),padding = 'Same', \n",
        "                 activation ='relu'))\n",
        "model.add(MaxPool2D(pool_size=(2,2)))\n",
        "model.add(Dropout(0.25))\n",
        "\n",
        "\n",
        "model.add(Conv2D(filters = 64, kernel_size = (3,3),padding = 'Same', \n",
        "                 activation ='relu'))\n",
        "model.add(Conv2D(filters = 64, kernel_size = (3,3),padding = 'Same', \n",
        "                 activation ='relu'))\n",
        "model.add(MaxPool2D(pool_size=(2,2), strides=(2,2)))\n",
        "model.add(Dropout(0.25))\n",
        "\n",
        "\n",
        "model.add(Flatten())\n",
        "model.add(Dense(256, activation = \"relu\"))\n",
        "model.add(Dropout(0.5))\n",
        "model.add(Dense(10, activation = \"softmax\"))"
      ],
      "execution_count": 0,
      "outputs": [
        {
          "output_type": "stream",
          "text": [
            "WARNING: Logging before flag parsing goes to stderr.\n",
            "W0824 20:37:30.705337 140197572958080 deprecation_wrapper.py:119] From /usr/local/lib/python3.6/dist-packages/keras/backend/tensorflow_backend.py:74: The name tf.get_default_graph is deprecated. Please use tf.compat.v1.get_default_graph instead.\n",
            "\n",
            "W0824 20:37:30.754202 140197572958080 deprecation_wrapper.py:119] From /usr/local/lib/python3.6/dist-packages/keras/backend/tensorflow_backend.py:517: The name tf.placeholder is deprecated. Please use tf.compat.v1.placeholder instead.\n",
            "\n",
            "W0824 20:37:30.768509 140197572958080 deprecation_wrapper.py:119] From /usr/local/lib/python3.6/dist-packages/keras/backend/tensorflow_backend.py:4138: The name tf.random_uniform is deprecated. Please use tf.random.uniform instead.\n",
            "\n",
            "W0824 20:37:30.807973 140197572958080 deprecation_wrapper.py:119] From /usr/local/lib/python3.6/dist-packages/keras/backend/tensorflow_backend.py:3976: The name tf.nn.max_pool is deprecated. Please use tf.nn.max_pool2d instead.\n",
            "\n",
            "W0824 20:37:30.810451 140197572958080 deprecation_wrapper.py:119] From /usr/local/lib/python3.6/dist-packages/keras/backend/tensorflow_backend.py:133: The name tf.placeholder_with_default is deprecated. Please use tf.compat.v1.placeholder_with_default instead.\n",
            "\n",
            "W0824 20:37:30.819105 140197572958080 deprecation.py:506] From /usr/local/lib/python3.6/dist-packages/keras/backend/tensorflow_backend.py:3445: calling dropout (from tensorflow.python.ops.nn_ops) with keep_prob is deprecated and will be removed in a future version.\n",
            "Instructions for updating:\n",
            "Please use `rate` instead of `keep_prob`. Rate should be set to `rate = 1 - keep_prob`.\n"
          ],
          "name": "stderr"
        }
      ]
    },
    {
      "cell_type": "code",
      "metadata": {
        "id": "O-lmfg8ZUxQ8",
        "colab_type": "code",
        "colab": {}
      },
      "source": [
        "# Define the optimizer\n",
        "optimizer = RMSprop(lr=0.001, rho=0.9, epsilon=1e-08, decay=0.0)\n"
      ],
      "execution_count": 0,
      "outputs": []
    },
    {
      "cell_type": "code",
      "metadata": {
        "id": "58uTXOLwUxO8",
        "colab_type": "code",
        "outputId": "12ed3c84-2c23-4e3b-944a-f88f5d89df46",
        "colab": {
          "base_uri": "https://localhost:8080/",
          "height": 106
        }
      },
      "source": [
        "# Compile the model\n",
        "model.compile(optimizer = optimizer , loss = \"categorical_crossentropy\", metrics=[\"accuracy\"])"
      ],
      "execution_count": 0,
      "outputs": [
        {
          "output_type": "stream",
          "text": [
            "W0824 20:38:16.033213 140197572958080 deprecation_wrapper.py:119] From /usr/local/lib/python3.6/dist-packages/keras/optimizers.py:790: The name tf.train.Optimizer is deprecated. Please use tf.compat.v1.train.Optimizer instead.\n",
            "\n",
            "W0824 20:38:16.049180 140197572958080 deprecation_wrapper.py:119] From /usr/local/lib/python3.6/dist-packages/keras/backend/tensorflow_backend.py:3295: The name tf.log is deprecated. Please use tf.math.log instead.\n",
            "\n"
          ],
          "name": "stderr"
        }
      ]
    },
    {
      "cell_type": "code",
      "metadata": {
        "id": "kxtvKAN0UxM1",
        "colab_type": "code",
        "colab": {}
      },
      "source": [
        "# Set a learning rate annealer\n",
        "learning_rate_reduction = ReduceLROnPlateau(monitor='val_acc', \n",
        "                                            patience=3, \n",
        "                                            verbose=1, \n",
        "                                            factor=0.5, \n",
        "                                            min_lr=0.00001)"
      ],
      "execution_count": 0,
      "outputs": []
    },
    {
      "cell_type": "code",
      "metadata": {
        "id": "fteYhnaNHZ12",
        "colab_type": "code",
        "colab": {}
      },
      "source": [
        "epochs = 30 # Turn epochs to 30 to get 0.9967 accuracy\n",
        "batch_size = 86"
      ],
      "execution_count": 0,
      "outputs": []
    },
    {
      "cell_type": "code",
      "metadata": {
        "id": "i1KF7OgJXC7l",
        "colab_type": "code",
        "colab": {}
      },
      "source": [
        "# With data augmentation to prevent overfitting (accuracy 0.99286)\n",
        "\n",
        "datagen = ImageDataGenerator(\n",
        "        featurewise_center=False,  # set input mean to 0 over the dataset\n",
        "        samplewise_center=False,  # set each sample mean to 0\n",
        "        featurewise_std_normalization=False,  # divide inputs by std of the dataset\n",
        "        samplewise_std_normalization=False,  # divide each input by its std\n",
        "        zca_whitening=False,  # apply ZCA whitening\n",
        "        rotation_range=10,  # randomly rotate images in the range (degrees, 0 to 180)\n",
        "        zoom_range = 0.1, # Randomly zoom image \n",
        "        width_shift_range=0.1,  # randomly shift images horizontally (fraction of total width)\n",
        "        height_shift_range=0.1,  # randomly shift images vertically (fraction of total height)\n",
        "        horizontal_flip=False,  # randomly flip images\n",
        "        vertical_flip=False)  # randomly flip images\n",
        "\n",
        "\n",
        "datagen.fit(X_train)"
      ],
      "execution_count": 0,
      "outputs": []
    },
    {
      "cell_type": "code",
      "metadata": {
        "id": "-J9pRl48XDHo",
        "colab_type": "code",
        "colab": {}
      },
      "source": [
        ""
      ],
      "execution_count": 0,
      "outputs": []
    },
    {
      "cell_type": "code",
      "metadata": {
        "id": "NZq6p3KkXDQr",
        "colab_type": "code",
        "colab": {}
      },
      "source": [
        ""
      ],
      "execution_count": 0,
      "outputs": []
    },
    {
      "cell_type": "code",
      "metadata": {
        "id": "5jB1HrjAHZyv",
        "colab_type": "code",
        "outputId": "541fcb6a-59cb-47ab-cd51-a888ed70f907",
        "colab": {
          "base_uri": "https://localhost:8080/",
          "height": 1000
        }
      },
      "source": [
        "# Fit the model\n",
        "history = model.fit_generator(datagen.flow(X_train,Y_train, batch_size=batch_size),\n",
        "                              epochs = epochs, validation_data = (X_val,Y_val),\n",
        "                              verbose = 2, steps_per_epoch=X_train.shape[0] // batch_size\n",
        "                              , callbacks=[learning_rate_reduction])\n"
      ],
      "execution_count": 0,
      "outputs": [
        {
          "output_type": "stream",
          "text": [
            "Epoch 1/30\n",
            " - 8s - loss: 0.1291 - acc: 0.9607 - val_loss: 0.0503 - val_acc: 0.9852\n",
            "Epoch 2/30\n",
            " - 8s - loss: 0.0951 - acc: 0.9723 - val_loss: 0.0428 - val_acc: 0.9862\n",
            "Epoch 3/30\n",
            " - 8s - loss: 0.0809 - acc: 0.9762 - val_loss: 0.0299 - val_acc: 0.9900\n",
            "Epoch 4/30\n",
            " - 8s - loss: 0.0730 - acc: 0.9791 - val_loss: 0.0238 - val_acc: 0.9940\n",
            "Epoch 5/30\n",
            " - 8s - loss: 0.0654 - acc: 0.9809 - val_loss: 0.0302 - val_acc: 0.9926\n",
            "Epoch 6/30\n",
            " - 8s - loss: 0.0628 - acc: 0.9810 - val_loss: 0.0217 - val_acc: 0.9933\n",
            "Epoch 7/30\n",
            " - 8s - loss: 0.0605 - acc: 0.9825 - val_loss: 0.0226 - val_acc: 0.9931\n",
            "\n",
            "Epoch 00007: ReduceLROnPlateau reducing learning rate to 0.0005000000237487257.\n",
            "Epoch 8/30\n",
            " - 8s - loss: 0.0460 - acc: 0.9863 - val_loss: 0.0212 - val_acc: 0.9940\n",
            "Epoch 9/30\n",
            " - 8s - loss: 0.0444 - acc: 0.9870 - val_loss: 0.0194 - val_acc: 0.9936\n",
            "Epoch 10/30\n",
            " - 8s - loss: 0.0417 - acc: 0.9881 - val_loss: 0.0193 - val_acc: 0.9940\n",
            "\n",
            "Epoch 00010: ReduceLROnPlateau reducing learning rate to 0.0002500000118743628.\n",
            "Epoch 11/30\n",
            " - 8s - loss: 0.0371 - acc: 0.9889 - val_loss: 0.0189 - val_acc: 0.9950\n",
            "Epoch 12/30\n",
            " - 8s - loss: 0.0373 - acc: 0.9894 - val_loss: 0.0179 - val_acc: 0.9952\n",
            "Epoch 13/30\n",
            " - 8s - loss: 0.0378 - acc: 0.9892 - val_loss: 0.0177 - val_acc: 0.9943\n",
            "Epoch 14/30\n",
            " - 8s - loss: 0.0351 - acc: 0.9893 - val_loss: 0.0167 - val_acc: 0.9950\n",
            "Epoch 15/30\n",
            " - 8s - loss: 0.0338 - acc: 0.9898 - val_loss: 0.0186 - val_acc: 0.9955\n",
            "Epoch 16/30\n",
            " - 8s - loss: 0.0342 - acc: 0.9901 - val_loss: 0.0160 - val_acc: 0.9948\n",
            "Epoch 17/30\n",
            " - 8s - loss: 0.0350 - acc: 0.9900 - val_loss: 0.0222 - val_acc: 0.9926\n",
            "Epoch 18/30\n",
            " - 8s - loss: 0.0337 - acc: 0.9899 - val_loss: 0.0134 - val_acc: 0.9962\n",
            "Epoch 19/30\n",
            " - 8s - loss: 0.0365 - acc: 0.9900 - val_loss: 0.0185 - val_acc: 0.9940\n",
            "Epoch 20/30\n",
            " - 8s - loss: 0.0372 - acc: 0.9895 - val_loss: 0.0181 - val_acc: 0.9938\n",
            "Epoch 21/30\n",
            " - 8s - loss: 0.0357 - acc: 0.9899 - val_loss: 0.0155 - val_acc: 0.9950\n",
            "\n",
            "Epoch 00021: ReduceLROnPlateau reducing learning rate to 0.0001250000059371814.\n",
            "Epoch 22/30\n",
            " - 8s - loss: 0.0293 - acc: 0.9914 - val_loss: 0.0158 - val_acc: 0.9955\n",
            "Epoch 23/30\n",
            " - 8s - loss: 0.0305 - acc: 0.9917 - val_loss: 0.0156 - val_acc: 0.9952\n",
            "Epoch 24/30\n",
            " - 8s - loss: 0.0305 - acc: 0.9912 - val_loss: 0.0171 - val_acc: 0.9945\n",
            "\n",
            "Epoch 00024: ReduceLROnPlateau reducing learning rate to 6.25000029685907e-05.\n",
            "Epoch 25/30\n",
            " - 8s - loss: 0.0288 - acc: 0.9914 - val_loss: 0.0166 - val_acc: 0.9952\n",
            "Epoch 26/30\n",
            " - 8s - loss: 0.0291 - acc: 0.9917 - val_loss: 0.0162 - val_acc: 0.9955\n",
            "Epoch 27/30\n",
            " - 8s - loss: 0.0292 - acc: 0.9910 - val_loss: 0.0168 - val_acc: 0.9955\n",
            "\n",
            "Epoch 00027: ReduceLROnPlateau reducing learning rate to 3.125000148429535e-05.\n",
            "Epoch 28/30\n",
            " - 8s - loss: 0.0272 - acc: 0.9920 - val_loss: 0.0170 - val_acc: 0.9955\n",
            "Epoch 29/30\n",
            " - 8s - loss: 0.0290 - acc: 0.9918 - val_loss: 0.0165 - val_acc: 0.9945\n",
            "Epoch 30/30\n",
            " - 8s - loss: 0.0282 - acc: 0.9923 - val_loss: 0.0181 - val_acc: 0.9950\n",
            "\n",
            "Epoch 00030: ReduceLROnPlateau reducing learning rate to 1.5625000742147677e-05.\n"
          ],
          "name": "stdout"
        }
      ]
    },
    {
      "cell_type": "code",
      "metadata": {
        "id": "Gq4ZA3qjD4tg",
        "colab_type": "code",
        "colab": {}
      },
      "source": [
        ""
      ],
      "execution_count": 0,
      "outputs": []
    }
  ]
}