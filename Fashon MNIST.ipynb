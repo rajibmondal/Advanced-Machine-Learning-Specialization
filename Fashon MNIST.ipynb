{
  "nbformat": 4,
  "nbformat_minor": 0,
  "metadata": {
    "colab": {
      "provenance": [],
      "authorship_tag": "ABX9TyMc9YM61Qli9f3WGi3Gj3tX",
      "include_colab_link": true
    },
    "kernelspec": {
      "name": "python3",
      "display_name": "Python 3"
    },
    "language_info": {
      "name": "python"
    }
  },
  "cells": [
    {
      "cell_type": "markdown",
      "metadata": {
        "id": "view-in-github",
        "colab_type": "text"
      },
      "source": [
        "<a href=\"https://colab.research.google.com/github/rajibmondal/Advanced-Machine-Learning-Specialization/blob/master/Fashon%20MNIST.ipynb\" target=\"_parent\"><img src=\"https://colab.research.google.com/assets/colab-badge.svg\" alt=\"Open In Colab\"/></a>"
      ]
    },
    {
      "cell_type": "code",
      "execution_count": 1,
      "metadata": {
        "colab": {
          "base_uri": "https://localhost:8080/"
        },
        "id": "MHcsgkAxSRHu",
        "outputId": "37e76338-9d76-4a29-f525-7a242dfeeb77"
      },
      "outputs": [
        {
          "output_type": "stream",
          "name": "stdout",
          "text": [
            "Downloading data from https://storage.googleapis.com/tensorflow/tf-keras-datasets/train-labels-idx1-ubyte.gz\n",
            "29515/29515 [==============================] - 0s 0us/step\n",
            "Downloading data from https://storage.googleapis.com/tensorflow/tf-keras-datasets/train-images-idx3-ubyte.gz\n",
            "    8192/26421880 [..............................] - ETA: 0s"
          ]
        },
        {
          "output_type": "stream",
          "name": "stderr",
          "text": [
            "<ipython-input-1-04e60d1ee9ed>:6: DeprecationWarning: distutils Version classes are deprecated. Use packaging.version instead.\n",
            "  if distutils.version.LooseVersion(tf.__version__) <= '2.0':\n"
          ]
        },
        {
          "output_type": "stream",
          "name": "stdout",
          "text": [
            "26421880/26421880 [==============================] - 0s 0us/step\n",
            "Downloading data from https://storage.googleapis.com/tensorflow/tf-keras-datasets/t10k-labels-idx1-ubyte.gz\n",
            "5148/5148 [==============================] - 0s 0us/step\n",
            "Downloading data from https://storage.googleapis.com/tensorflow/tf-keras-datasets/t10k-images-idx3-ubyte.gz\n",
            "4422102/4422102 [==============================] - 0s 0us/step\n"
          ]
        }
      ],
      "source": [
        "import tensorflow as tf\n",
        "import numpy as np\n",
        "import os\n",
        "\n",
        "import distutils\n",
        "if distutils.version.LooseVersion(tf.__version__) <= '2.0':\n",
        "    raise Exception('This notebook is compatible with TensorFlow 1.14 or higher, for TensorFlow 1.13 or lower please use the previous version at https://github.com/tensorflow/tpu/blob/r1.13/tools/colab/fashion_mnist.ipynb')\n",
        "\n",
        "(x_train, y_train), (x_test, y_test) = tf.keras.datasets.fashion_mnist.load_data()"
      ]
    },
    {
      "cell_type": "code",
      "source": [
        "import numpy as np\n",
        "import tensorflow as tf\n",
        "from tensorflow import keras\n",
        "from tensorflow.keras import layers\n",
        "from sklearn.metrics import confusion_matrix, classification_report\n",
        "import matplotlib.pyplot as plt"
      ],
      "metadata": {
        "id": "d_2rSTbPUiHp"
      },
      "execution_count": 13,
      "outputs": []
    },
    {
      "cell_type": "code",
      "source": [
        "# Load the Fashion MNIST dataset\n",
        "(train_images, train_labels), (test_images, test_labels) = keras.datasets.fashion_mnist.load_data()"
      ],
      "metadata": {
        "id": "-ggbTgVtUiO5"
      },
      "execution_count": 14,
      "outputs": []
    },
    {
      "cell_type": "code",
      "source": [
        "plt.figure(figsize=(10, 10))\n",
        "for i in range(10):\n",
        "    idx = np.where(train_labels == i)[0][0]\n",
        "    plt.subplot(5, 2, i + 1)\n",
        "    plt.imshow(train_images[idx], cmap='gray')\n",
        "    plt.title(f'Class {i}')\n",
        "    plt.axis('off')\n",
        "plt.show()"
      ],
      "metadata": {
        "colab": {
          "base_uri": "https://localhost:8080/",
          "height": 386
        },
        "id": "py9_eq3NjEjC",
        "outputId": "2938e8d8-e26c-49b1-ec77-a74398302bf0"
      },
      "execution_count": 32,
      "outputs": [
        {
          "output_type": "error",
          "ename": "IndexError",
          "evalue": "index 0 is out of bounds for axis 0 with size 0",
          "traceback": [
            "\u001b[0;31m---------------------------------------------------------------------------\u001b[0m",
            "\u001b[0;31mIndexError\u001b[0m                                Traceback (most recent call last)",
            "\u001b[0;32m<ipython-input-32-d8d039e5a1fc>\u001b[0m in \u001b[0;36m<cell line: 2>\u001b[0;34m()\u001b[0m\n\u001b[1;32m      1\u001b[0m \u001b[0mplt\u001b[0m\u001b[0;34m.\u001b[0m\u001b[0mfigure\u001b[0m\u001b[0;34m(\u001b[0m\u001b[0mfigsize\u001b[0m\u001b[0;34m=\u001b[0m\u001b[0;34m(\u001b[0m\u001b[0;36m10\u001b[0m\u001b[0;34m,\u001b[0m \u001b[0;36m10\u001b[0m\u001b[0;34m)\u001b[0m\u001b[0;34m)\u001b[0m\u001b[0;34m\u001b[0m\u001b[0;34m\u001b[0m\u001b[0m\n\u001b[1;32m      2\u001b[0m \u001b[0;32mfor\u001b[0m \u001b[0mi\u001b[0m \u001b[0;32min\u001b[0m \u001b[0mrange\u001b[0m\u001b[0;34m(\u001b[0m\u001b[0;36m10\u001b[0m\u001b[0;34m)\u001b[0m\u001b[0;34m:\u001b[0m\u001b[0;34m\u001b[0m\u001b[0;34m\u001b[0m\u001b[0m\n\u001b[0;32m----> 3\u001b[0;31m     \u001b[0midx\u001b[0m \u001b[0;34m=\u001b[0m \u001b[0mnp\u001b[0m\u001b[0;34m.\u001b[0m\u001b[0mwhere\u001b[0m\u001b[0;34m(\u001b[0m\u001b[0mtrain_labels\u001b[0m \u001b[0;34m==\u001b[0m \u001b[0mi\u001b[0m\u001b[0;34m)\u001b[0m\u001b[0;34m[\u001b[0m\u001b[0;36m0\u001b[0m\u001b[0;34m]\u001b[0m\u001b[0;34m[\u001b[0m\u001b[0;36m0\u001b[0m\u001b[0;34m]\u001b[0m\u001b[0;34m\u001b[0m\u001b[0;34m\u001b[0m\u001b[0m\n\u001b[0m\u001b[1;32m      4\u001b[0m     \u001b[0mplt\u001b[0m\u001b[0;34m.\u001b[0m\u001b[0msubplot\u001b[0m\u001b[0;34m(\u001b[0m\u001b[0;36m5\u001b[0m\u001b[0;34m,\u001b[0m \u001b[0;36m2\u001b[0m\u001b[0;34m,\u001b[0m \u001b[0mi\u001b[0m \u001b[0;34m+\u001b[0m \u001b[0;36m1\u001b[0m\u001b[0;34m)\u001b[0m\u001b[0;34m\u001b[0m\u001b[0;34m\u001b[0m\u001b[0m\n\u001b[1;32m      5\u001b[0m     \u001b[0mplt\u001b[0m\u001b[0;34m.\u001b[0m\u001b[0mimshow\u001b[0m\u001b[0;34m(\u001b[0m\u001b[0mtrain_images\u001b[0m\u001b[0;34m[\u001b[0m\u001b[0midx\u001b[0m\u001b[0;34m]\u001b[0m\u001b[0;34m,\u001b[0m \u001b[0mcmap\u001b[0m\u001b[0;34m=\u001b[0m\u001b[0;34m'gray'\u001b[0m\u001b[0;34m)\u001b[0m\u001b[0;34m\u001b[0m\u001b[0;34m\u001b[0m\u001b[0m\n",
            "\u001b[0;31mIndexError\u001b[0m: index 0 is out of bounds for axis 0 with size 0"
          ]
        },
        {
          "output_type": "display_data",
          "data": {
            "text/plain": [
              "<Figure size 1000x1000 with 2 Axes>"
            ],
            "image/png": "[encoded data removed]"
          },
          "metadata": {}
        }
      ]
    },
    {
      "cell_type": "code",
      "source": [
        "# Normalize the images to [0, 1] range\n",
        "train_images = train_images / 255.0\n",
        "test_images = test_images / 255.0"
      ],
      "metadata": {
        "id": "FKHmTaWPUiRy"
      },
      "execution_count": 15,
      "outputs": []
    },
    {
      "cell_type": "code",
      "source": [
        "# Reshape images for CNN input and one-hot encode the labels\n",
        "train_images = train_images.reshape((-1, 28, 28, 1))\n",
        "test_images = test_images.reshape((-1, 28, 28, 1))\n",
        "train_labels = keras.utils.to_categorical(train_labels)\n",
        "test_labels = keras.utils.to_categorical(test_labels)"
      ],
      "metadata": {
        "id": "aaxm7PCTUiUW"
      },
      "execution_count": 16,
      "outputs": []
    },
    {
      "cell_type": "code",
      "source": [
        "# Model 1: Shallow Neural Network\n",
        "model_1 = keras.Sequential([\n",
        "    layers.Flatten(input_shape=(28, 28, 1)),\n",
        "    layers.Dense(128, activation='relu'),\n",
        "    layers.Dense(10, activation='softmax')\n",
        "])"
      ],
      "metadata": {
        "id": "U4XYiHvdUiW3"
      },
      "execution_count": 17,
      "outputs": []
    },
    {
      "cell_type": "code",
      "source": [
        "# Model 2: Basic CNN\n",
        "model_2 = keras.Sequential([\n",
        "    layers.Conv2D(32, (3, 3), activation='relu', input_shape=(28, 28, 1)),\n",
        "    layers.MaxPooling2D((2, 2)),\n",
        "    layers.Flatten(),\n",
        "    layers.Dense(128, activation='relu'),\n",
        "    layers.Dense(10, activation='softmax')\n",
        "])"
      ],
      "metadata": {
        "id": "8mu1IijmUykw"
      },
      "execution_count": 18,
      "outputs": []
    },
    {
      "cell_type": "code",
      "source": [
        "# Model 3: Deeper CNN\n",
        "model_3 = keras.Sequential([\n",
        "    layers.Conv2D(64, (3, 3), activation='relu', input_shape=(28, 28, 1)),\n",
        "    layers.Conv2D(64, (3, 3), activation='relu'),\n",
        "    layers.MaxPooling2D((2, 2)),\n",
        "    layers.Conv2D(128, (3, 3), activation='relu'),\n",
        "    layers.Flatten(),\n",
        "    layers.Dense(128, activation='relu'),\n",
        "    layers.Dense(10, activation='softmax')\n",
        "])\n"
      ],
      "metadata": {
        "id": "FcGDIJpFUyuG"
      },
      "execution_count": 19,
      "outputs": []
    },
    {
      "cell_type": "code",
      "source": [
        "# Compile models\n",
        "for model in [model_1, model_2, model_3]:\n",
        "    model.compile(optimizer='adam',\n",
        "                  loss='categorical_crossentropy',\n",
        "                  metrics=['accuracy'])\n"
      ],
      "metadata": {
        "id": "D8EckUFLUyxQ"
      },
      "execution_count": 20,
      "outputs": []
    },
    {
      "cell_type": "code",
      "source": [
        "# Train models\n",
        "history_1 = model_1.fit(train_images, train_labels, epochs=10, validation_split=0.2)\n",
        "history_2 = model_2.fit(train_images, train_labels, epochs=10, validation_split=0.2)\n",
        "history_3 = model_3.fit(train_images, train_labels, epochs=10, validation_split=0.2)"
      ],
      "metadata": {
        "colab": {
          "base_uri": "https://localhost:8080/"
        },
        "id": "orcJ1UF8Uyzv",
        "outputId": "c4296d2c-f4b4-45ca-f57e-b5757afdfb47"
      },
      "execution_count": 21,
      "outputs": [
        {
          "output_type": "stream",
          "name": "stdout",
          "text": [
            "Epoch 1/10\n",
            "1500/1500 [==============================] - 7s 4ms/step - loss: 0.5171 - accuracy: 0.8196 - val_loss: 0.4127 - val_accuracy: 0.8480\n",
            "Epoch 2/10\n",
            "1500/1500 [==============================] - 6s 4ms/step - loss: 0.3873 - accuracy: 0.8600 - val_loss: 0.3799 - val_accuracy: 0.8613\n",
            "Epoch 3/10\n",
            "1500/1500 [==============================] - 7s 5ms/step - loss: 0.3473 - accuracy: 0.8744 - val_loss: 0.3520 - val_accuracy: 0.8740\n",
            "Epoch 4/10\n",
            "1500/1500 [==============================] - 7s 4ms/step - loss: 0.3239 - accuracy: 0.8822 - val_loss: 0.3587 - val_accuracy: 0.8734\n",
            "Epoch 5/10\n",
            "1500/1500 [==============================] - 6s 4ms/step - loss: 0.3031 - accuracy: 0.8889 - val_loss: 0.3404 - val_accuracy: 0.8791\n",
            "Epoch 6/10\n",
            "1500/1500 [==============================] - 6s 4ms/step - loss: 0.2878 - accuracy: 0.8940 - val_loss: 0.3267 - val_accuracy: 0.8834\n",
            "Epoch 7/10\n",
            "1500/1500 [==============================] - 5s 4ms/step - loss: 0.2747 - accuracy: 0.8987 - val_loss: 0.3390 - val_accuracy: 0.8801\n",
            "Epoch 8/10\n",
            "1500/1500 [==============================] - 5s 3ms/step - loss: 0.2618 - accuracy: 0.9040 - val_loss: 0.3373 - val_accuracy: 0.8797\n",
            "Epoch 9/10\n",
            "1500/1500 [==============================] - 6s 4ms/step - loss: 0.2508 - accuracy: 0.9075 - val_loss: 0.3396 - val_accuracy: 0.8771\n",
            "Epoch 10/10\n",
            "1500/1500 [==============================] - 5s 3ms/step - loss: 0.2402 - accuracy: 0.9100 - val_loss: 0.3244 - val_accuracy: 0.8875\n",
            "Epoch 1/10\n",
            "1500/1500 [==============================] - 37s 24ms/step - loss: 0.4145 - accuracy: 0.8556 - val_loss: 0.3083 - val_accuracy: 0.8918\n",
            "Epoch 2/10\n",
            "1500/1500 [==============================] - 34s 22ms/step - loss: 0.2772 - accuracy: 0.9011 - val_loss: 0.2767 - val_accuracy: 0.9008\n",
            "Epoch 3/10\n",
            "1500/1500 [==============================] - 35s 23ms/step - loss: 0.2299 - accuracy: 0.9158 - val_loss: 0.2573 - val_accuracy: 0.9087\n",
            "Epoch 4/10\n",
            "1500/1500 [==============================] - 38s 25ms/step - loss: 0.1949 - accuracy: 0.9291 - val_loss: 0.2491 - val_accuracy: 0.9112\n",
            "Epoch 5/10\n",
            "1500/1500 [==============================] - 35s 23ms/step - loss: 0.1660 - accuracy: 0.9384 - val_loss: 0.2497 - val_accuracy: 0.9122\n",
            "Epoch 6/10\n",
            "1500/1500 [==============================] - 35s 24ms/step - loss: 0.1420 - accuracy: 0.9482 - val_loss: 0.2718 - val_accuracy: 0.9103\n",
            "Epoch 7/10\n",
            "1500/1500 [==============================] - 33s 22ms/step - loss: 0.1194 - accuracy: 0.9565 - val_loss: 0.2734 - val_accuracy: 0.9127\n",
            "Epoch 8/10\n",
            "1500/1500 [==============================] - 33s 22ms/step - loss: 0.1008 - accuracy: 0.9632 - val_loss: 0.2857 - val_accuracy: 0.9110\n",
            "Epoch 9/10\n",
            "1500/1500 [==============================] - 37s 25ms/step - loss: 0.0845 - accuracy: 0.9690 - val_loss: 0.2862 - val_accuracy: 0.9178\n",
            "Epoch 10/10\n",
            "1500/1500 [==============================] - 34s 23ms/step - loss: 0.0718 - accuracy: 0.9736 - val_loss: 0.3101 - val_accuracy: 0.9150\n",
            "Epoch 1/10\n",
            "1500/1500 [==============================] - 277s 184ms/step - loss: 0.3929 - accuracy: 0.8577 - val_loss: 0.2743 - val_accuracy: 0.8988\n",
            "Epoch 2/10\n",
            "1500/1500 [==============================] - 280s 187ms/step - loss: 0.2401 - accuracy: 0.9132 - val_loss: 0.2339 - val_accuracy: 0.9164\n",
            "Epoch 3/10\n",
            "1500/1500 [==============================] - 273s 182ms/step - loss: 0.1908 - accuracy: 0.9298 - val_loss: 0.2317 - val_accuracy: 0.9145\n",
            "Epoch 4/10\n",
            "1500/1500 [==============================] - 279s 186ms/step - loss: 0.1486 - accuracy: 0.9448 - val_loss: 0.2299 - val_accuracy: 0.9203\n",
            "Epoch 5/10\n",
            "1500/1500 [==============================] - 281s 188ms/step - loss: 0.1112 - accuracy: 0.9579 - val_loss: 0.2426 - val_accuracy: 0.9197\n",
            "Epoch 6/10\n",
            "1500/1500 [==============================] - 281s 187ms/step - loss: 0.0866 - accuracy: 0.9678 - val_loss: 0.2482 - val_accuracy: 0.9247\n",
            "Epoch 7/10\n",
            "1500/1500 [==============================] - 277s 185ms/step - loss: 0.0640 - accuracy: 0.9760 - val_loss: 0.2856 - val_accuracy: 0.9191\n",
            "Epoch 8/10\n",
            "1500/1500 [==============================] - 271s 180ms/step - loss: 0.0478 - accuracy: 0.9824 - val_loss: 0.3490 - val_accuracy: 0.9186\n",
            "Epoch 9/10\n",
            "1500/1500 [==============================] - 282s 188ms/step - loss: 0.0401 - accuracy: 0.9851 - val_loss: 0.3592 - val_accuracy: 0.9229\n",
            "Epoch 10/10\n",
            "1500/1500 [==============================] - 283s 189ms/step - loss: 0.0357 - accuracy: 0.9874 - val_loss: 0.4127 - val_accuracy: 0.9192\n"
          ]
        }
      ]
    },
    {
      "cell_type": "code",
      "source": [
        "# Evaluate models\n",
        "def evaluate_model(model, test_images, test_labels):\n",
        "    test_loss, test_acc = model.evaluate(test_images, test_labels, verbose=2)\n",
        "    predictions = model.predict(test_images)\n",
        "    predicted_classes = np.argmax(predictions, axis=1)\n",
        "    true_classes = np.argmax(test_labels, axis=1)\n",
        "    cm = confusion_matrix(true_classes, predicted_classes)\n",
        "    clr = classification_report(true_classes, predicted_classes)\n",
        "    return test_acc, cm, clr\n"
      ],
      "metadata": {
        "id": "FjiETg7SUy2a"
      },
      "execution_count": 25,
      "outputs": []
    },
    {
      "cell_type": "code",
      "source": [
        "true_classes = np.argmax(test_labels, axis=1)"
      ],
      "metadata": {
        "id": "FMIfGBkoisDc"
      },
      "execution_count": 29,
      "outputs": []
    },
    {
      "cell_type": "code",
      "source": [
        "acc_1, cm_1, clr_1 = evaluate_model(model_1, test_images, test_labels)\n",
        "acc_2, cm_2, clr_2 = evaluate_model(model_2, test_images, test_labels)\n",
        "acc_3, cm_3, clr_3 = evaluate_model(model_3, test_images, test_labels)"
      ],
      "metadata": {
        "colab": {
          "base_uri": "https://localhost:8080/"
        },
        "id": "SFL2kSkPUy41",
        "outputId": "b327cd08-605f-4e84-ad8a-be0e807a3843"
      },
      "execution_count": 26,
      "outputs": [
        {
          "output_type": "stream",
          "name": "stdout",
          "text": [
            "313/313 - 1s - loss: 0.3522 - accuracy: 0.8773 - 500ms/epoch - 2ms/step\n",
            "313/313 [==============================] - 1s 2ms/step\n",
            "313/313 - 2s - loss: 0.3278 - accuracy: 0.9149 - 2s/epoch - 5ms/step\n",
            "313/313 [==============================] - 2s 5ms/step\n",
            "313/313 - 14s - loss: 0.4377 - accuracy: 0.9176 - 14s/epoch - 46ms/step\n",
            "313/313 [==============================] - 14s 46ms/step\n"
          ]
        }
      ]
    },
    {
      "cell_type": "code",
      "source": [
        "# Ensemble method: Averaging predictions\n",
        "predictions_1 = model_1.predict(test_images)\n",
        "predictions_2 = model_2.predict(test_images)\n",
        "predictions_3 = model_3.predict(test_images)\n",
        "ensemble_predictions = (predictions_1 + predictions_2 + predictions_3) / 3\n",
        "ensemble_predicted_classes = np.argmax(ensemble_predictions, axis=1)\n",
        "ensemble_cm = confusion_matrix(true_classes, ensemble_predicted_classes)\n",
        "ensemble_clr = classification_report(true_classes, ensemble_predicted_classes)"
      ],
      "metadata": {
        "colab": {
          "base_uri": "https://localhost:8080/"
        },
        "id": "CAxGWyICUy7d",
        "outputId": "e161c187-5968-4ecc-ae62-66d4666e1365"
      },
      "execution_count": 30,
      "outputs": [
        {
          "output_type": "stream",
          "name": "stdout",
          "text": [
            "313/313 [==============================] - 1s 2ms/step\n",
            "313/313 [==============================] - 3s 9ms/step\n",
            "313/313 [==============================] - 16s 51ms/step\n"
          ]
        }
      ]
    },
    {
      "cell_type": "code",
      "source": [
        "# Output results\n",
        "print(\"Model 1 Accuracy:\", acc_1)\n",
        "print(\"Model 2 Accuracy:\", acc_2)\n",
        "print(\"Model 3 Accuracy:\", acc_3)\n",
        "print(\"Ensemble Accuracy:\", np.mean([acc_1, acc_2, acc_3]))\n",
        "print(\"Ensemble Confusion Matrix:\\n\", ensemble_cm)\n",
        "print(\"Ensemble Classification Report:\\n\", ensemble_clr)\n"
      ],
      "metadata": {
        "colab": {
          "base_uri": "https://localhost:8080/"
        },
        "id": "rlQAbIarUy95",
        "outputId": "f16f9db8-ad8f-4f9f-fd13-2da88302365b"
      },
      "execution_count": 31,
      "outputs": [
        {
          "output_type": "stream",
          "name": "stdout",
          "text": [
            "Model 1 Accuracy: 0.8773000240325928\n",
            "Model 2 Accuracy: 0.914900004863739\n",
            "Model 3 Accuracy: 0.9175999760627747\n",
            "Ensemble Accuracy: 0.9032666683197021\n",
            "Ensemble Confusion Matrix:\n",
            " [[857   1  15  16   5   0  98   1   7   0]\n",
            " [  0 979   0  13   4   0   3   0   1   0]\n",
            " [ 12   0 872   9  49   0  58   0   0   0]\n",
            " [  9   1   6 950  14   0  19   0   1   0]\n",
            " [  0   1  41  31 889   0  37   0   1   0]\n",
            " [  0   0   0   0   0 986   0  12   0   2]\n",
            " [ 67   0  39  27  53   0 809   0   5   0]\n",
            " [  0   0   0   0   0   7   0 983   0  10]\n",
            " [  4   0   1   4   2   1   5   3 980   0]\n",
            " [  0   0   0   0   0   7   1  30   0 962]]\n",
            "Ensemble Classification Report:\n",
            "               precision    recall  f1-score   support\n",
            "\n",
            "           0       0.90      0.86      0.88      1000\n",
            "           1       1.00      0.98      0.99      1000\n",
            "           2       0.90      0.87      0.88      1000\n",
            "           3       0.90      0.95      0.93      1000\n",
            "           4       0.88      0.89      0.88      1000\n",
            "           5       0.99      0.99      0.99      1000\n",
            "           6       0.79      0.81      0.80      1000\n",
            "           7       0.96      0.98      0.97      1000\n",
            "           8       0.98      0.98      0.98      1000\n",
            "           9       0.99      0.96      0.97      1000\n",
            "\n",
            "    accuracy                           0.93     10000\n",
            "   macro avg       0.93      0.93      0.93     10000\n",
            "weighted avg       0.93      0.93      0.93     10000\n",
            "\n"
          ]
        }
      ]
    },
    {
      "cell_type": "code",
      "source": [],
      "metadata": {
        "id": "SJcjLmTfUzAb"
      },
      "execution_count": null,
      "outputs": []
    },
    {
      "cell_type": "code",
      "source": [
        "# Build the neural network model\n",
        "input_layer = layers.Input(shape=x_train.shape[1:])\n",
        "hidden1 = layers.Dense(30, activation='relu')(input_layer)\n",
        "batch_norm1 = layers.BatchNormalization()(hidden1)\n",
        "dropout1 = layers.Dropout(0.5)(batch_norm1)\n",
        "hidden2 = layers.Dense(30, activation='relu')(dropout1)\n",
        "batch_norm2 = layers.BatchNormalization()(hidden2)\n",
        "dropout2 = layers.Dropout(0.5)(batch_norm2)\n",
        "concat = layers.Concatenate()([hidden1, hidden2])\n",
        "output = layers.Dense(10, activation='softmax')(concat)\n",
        "\n"
      ],
      "metadata": {
        "id": "KUSLTR9NUzC1"
      },
      "execution_count": 33,
      "outputs": []
    },
    {
      "cell_type": "code",
      "source": [
        "from tensorflow.keras import layers, models\n",
        "\n",
        "model = models.Model(inputs=[input_layer], outputs=[output])\n"
      ],
      "metadata": {
        "id": "ARzfuZfrUzF5"
      },
      "execution_count": 34,
      "outputs": []
    },
    {
      "cell_type": "code",
      "source": [
        "# Compile the model\n",
        "model.compile(optimizer='adam',\n",
        "              loss='sparse_categorical_crossentropy',\n",
        "              metrics=['accuracy'])\n",
        "\n"
      ],
      "metadata": {
        "id": "5PcIsFIZUiZU"
      },
      "execution_count": 35,
      "outputs": []
    },
    {
      "cell_type": "code",
      "source": [
        "plt.figure(figsize=(10, 10))\n",
        "for i in range(10):\n",
        "    idx = np.where(y_train == i)[0][0]\n",
        "    plt.subplot(5, 2, i + 1)\n",
        "    plt.imshow(x_train[idx], cmap='gray')\n",
        "    plt.title(f'Class {i}')\n",
        "    plt.axis('off')\n",
        "plt.show()"
      ],
      "metadata": {
        "colab": {
          "base_uri": "https://localhost:8080/",
          "height": 829
        },
        "id": "OD7pLk5zSS3I",
        "outputId": "af4068d6-e0ff-4eb5-cdac-0ac4ab11972b"
      },
      "execution_count": 5,
      "outputs": [
        {
          "output_type": "display_data",
          "data": {
            "text/plain": [
              "<Figure size 1000x1000 with 10 Axes>"
            ],
            "image/png": "[encoded data removed]"
          },
          "metadata": {}
        }
      ]
    },
    {
      "cell_type": "code",
      "source": [],
      "metadata": {
        "id": "WKBJrtavT0DG"
      },
      "execution_count": null,
      "outputs": []
    },
    {
      "cell_type": "code",
      "source": [],
      "metadata": {
        "id": "UmnxyRE2lyND"
      },
      "execution_count": null,
      "outputs": []
    },
    {
      "cell_type": "code",
      "source": [],
      "metadata": {
        "id": "ItlABAFBT0F4"
      },
      "execution_count": null,
      "outputs": []
    },
    {
      "cell_type": "code",
      "source": [],
      "metadata": {
        "id": "maO5VqGtSTBP"
      },
      "execution_count": null,
      "outputs": []
    },
    {
      "cell_type": "code",
      "source": [],
      "metadata": {
        "id": "hRQoW4JdSTEB"
      },
      "execution_count": null,
      "outputs": []
    }
  ]
}